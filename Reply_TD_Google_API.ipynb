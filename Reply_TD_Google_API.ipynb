{
  "nbformat": 4,
  "nbformat_minor": 0,
  "metadata": {
    "colab": {
      "name": "ReplyTD.ipynb",
      "provenance": [],
      "collapsed_sections": [],
      "authorship_tag": "ABX9TyPVg14I7bpaQLKqdqrsvKYV",
      "include_colab_link": true
    },
    "kernelspec": {
      "name": "python3",
      "display_name": "Python 3"
    },
    "language_info": {
      "name": "python"
    }
  },
  "cells": [
    {
      "cell_type": "markdown",
      "metadata": {
        "id": "view-in-github",
        "colab_type": "text"
      },
      "source": [
        "<a href=\"https://colab.research.google.com/github/roshankumarbhuyan/Customer-preference-Using-KNN/blob/master/Reply_TD_Google_API.ipynb\" target=\"_parent\"><img src=\"https://colab.research.google.com/assets/colab-badge.svg\" alt=\"Open In Colab\"/></a>"
      ]
    },
    {
      "cell_type": "markdown",
      "metadata": {
        "id": "HC6KS_pVFK2M"
      },
      "source": [
        " <h1>What is the Scope of this Project? </h1>\n",
        "\n",
        "\n",
        " The Scope of this Project is to collect data from **Google Maps Places API**.\n",
        "\n",
        "The following place requests are available on the [Places API](https://developers.google.com/maps/documentation/places/web-service/search):\n",
        "*   Place Search returns a list of places based on a user's location or search string.\n",
        "*   Place Details returns more detailed information about a specific place, including user reviews.\n",
        "*   Place Photos provides access to the millions of place-related photos stored in Google's Place database.\n",
        "*   Place Autocomplete automatically fills in the name and/or address of a place as users type.\n",
        "*   Query Autocomplete provides a query prediction service for text-based geographic searches, returning suggested queries as users type.\n",
        "\n",
        "The Scope of the Project would be only limited to Place Search.\n",
        "This API was choosen because information about places are returned using HTTP requests. \n",
        "\n",
        "<h2> Pricing for the Places API</h2>\n",
        "Under the pay-as-you-go pricing model, requests for the Places API are billed by SKU.The Basic Data SKU is free of costs and is triggered when any of these fields are requested: \n",
        "\n",
        "*   address_component \n",
        "*   adr_address \n",
        "*   **business_status**\n",
        "*   **formatted_address**\n",
        "*   **geometry**(latitude and longitude)\n",
        "*   icon\n",
        "*   **name**\n",
        "*   permanently_closed\n",
        "*   photo\n",
        "*   place_id\n",
        "*   plus_code\n",
        "*   Type\n",
        "*   url\n",
        "*   utc_offset\n",
        "*   vicinity\n",
        "\n",
        "For the Sake of Simplicity and keeping usage within the Free tier, Only the highlighted fields would be requested.\n",
        "\n",
        "An API key is necessary and can be generated from the Google Cloud Console"
      ]
    },
    {
      "cell_type": "code",
      "metadata": {
        "id": "XYyXme1zPE1a"
      },
      "source": [
        "Fields = ['business_status','formatted_address','name','geometry','rating','types']\n",
        "google_api_key = ''\n",
        "path_to_input = 'INPUT_CATEGORICAL_SAMPLE.csv'"
      ],
      "execution_count": null,
      "outputs": []
    },
    {
      "cell_type": "markdown",
      "metadata": {
        "id": "CHdRzhuyPX9_"
      },
      "source": [
        "<h1>Approach and steps</h1>\n",
        "\n",
        "A random point with a Lat and Long would be selected and a text Query would be sent to the Places API to see the Results.  <br>  \n",
        "For Example:\n",
        "The lat and long for the center of Berlin  <br>\n",
        "52.5200° N, 13.4050° E <br>\n",
        "would be sent and Google would be asked for \"Doner\" results in a 2 km radius.\n",
        "\n",
        "This would be a Sample Test.  <br>\n",
        "Later This would be automated so that such points and queries can be passed in Bulk to the API.\n"
      ]
    },
    {
      "cell_type": "code",
      "metadata": {
        "id": "1R3_N1jvBDIL"
      },
      "source": [
        "import requests\n",
        "import csv\n",
        "import json\n",
        "import geopy.distance\n",
        "import time\n",
        "import pandas as pd\n",
        "import numpy\n",
        "import ast \n",
        "from math import sin, cos, sqrt, atan2, radians\n"
      ],
      "execution_count": null,
      "outputs": []
    },
    {
      "cell_type": "markdown",
      "metadata": {
        "id": "KFHdJ8yAYYDq"
      },
      "source": [
        "The Sample Call"
      ]
    },
    {
      "cell_type": "code",
      "metadata": {
        "id": "2F9Sd1GXQ29w"
      },
      "source": [
        "#adding parameters for sample test\n",
        "Search_Radius = '2000'\n",
        "query = 'Doner'\n",
        "input_lat = '52.520008'\n",
        "input_long = '13.404954'"
      ],
      "execution_count": null,
      "outputs": []
    },
    {
      "cell_type": "code",
      "metadata": {
        "id": "LpohHJLRQ_9T"
      },
      "source": [
        "Queryfields = \"fields=\" + ','.join(Fields)\n",
        "google_api_request = 'https://maps.googleapis.com/maps/api/place/textsearch/json?query=' + query + '&location=' + input_lat + ',' + input_long +'&'+ Queryfields+ '&radius=' +Search_Radius+ '&key=' + google_api_key\n",
        "google_result = requests.get(google_api_request)\n",
        "assert len(json.loads(google_result.text)['results']) != 0, \"Failed to Connect to API as API sent 0 Results. Please Check your key\""
      ],
      "execution_count": null,
      "outputs": []
    },
    {
      "cell_type": "markdown",
      "metadata": {
        "id": "_Zwby-16aAKl"
      },
      "source": [
        "A Sample of the Result from the API.\n",
        "The results are in JSON format and Need to be converted to a Tabular Format for further use\n",
        "```\n",
        "{\n",
        "         \"business_status\" : \"OPERATIONAL\",\n",
        "         \"formatted_address\" : \"Alexanderpl. 8, 10178 Berlin, Germany\",\n",
        "         \"geometry\" : {\n",
        "            \"location\" : {\n",
        "               \"lat\" : 52.522989,\n",
        "               \"lng\" : 13.4119667\n",
        "            },\n",
        "            \"viewport\" : {\n",
        "               \"northeast\" : {\n",
        "                  \"lat\" : 52.52437497989273,\n",
        "                  \"lng\" : 13.41287027989272\n",
        "               },\n",
        "               \"southwest\" : {\n",
        "                  \"lat\" : 52.52167532010728,\n",
        "                  \"lng\" : 13.41017062010728\n",
        "               }\n",
        "            }\n",
        "         },\n",
        "```"
      ]
    },
    {
      "cell_type": "code",
      "metadata": {
        "id": "xsfiRp1_MlDA"
      },
      "source": [
        "#Function to convert JSON to DF\n",
        "def return_df_from_JSON(google_result,lat,longi,query):\n",
        "   try:\n",
        "     google_result_items = json.loads(google_result.text)['results']\n",
        "     df = pd.DataFrame.from_dict(google_result_items)\n",
        "     df['Provider'] = 'GOOGLE'\n",
        "     df['Input_Lat'] = lat\n",
        "     df['Input_Long'] = longi\n",
        "     df['POI_Input'] = query\n",
        "   except:\n",
        "     d = {'Provider':'GOOGLE','Input_Lat':lat,'Input_Long':longi,'POI_Input':query } \n",
        "     df = pd.DataFrame(d, index=[0])\n",
        "   return df"
      ],
      "execution_count": null,
      "outputs": []
    },
    {
      "cell_type": "code",
      "metadata": {
        "id": "QebZgwp0uCR-"
      },
      "source": [
        "df = return_df_from_JSON(google_result,input_lat,input_long,query)\n",
        "print('Total results returned = %d'  %len(df) )\n",
        "display(df)"
      ],
      "execution_count": null,
      "outputs": []
    },
    {
      "cell_type": "markdown",
      "metadata": {
        "id": "vZoTE44R9VmD"
      },
      "source": [
        "By default, each Nearby Search or Text Search returns up to 20 establishment results per query.\n",
        "\n",
        "However, each search can return as many as 60 results, split across three pages.\n",
        "\n",
        "We need to Pass the value of the next_page_token to the pagetoken parameter of a new search to see the next set of results. \n",
        "\n",
        "If the next_page_token is null, or is not returned, then there are no further results. "
      ]
    },
    {
      "cell_type": "markdown",
      "metadata": {
        "id": "PtE-5HcEGEhq"
      },
      "source": [
        "<H3> The results contain Free text and Json and do not contain the distance from point of search </H3>\n",
        "A class and a few functions need to be written to provide us with formatted tabular output"
      ]
    },
    {
      "cell_type": "code",
      "metadata": {
        "id": "ANGIwkpWGEQI"
      },
      "source": [
        "def get_distance(lat1,lon1,lat2,lon2):\n",
        "    # approximate radius of earth in km\n",
        "  R = 6373.0\n",
        "  lat1 = radians(float(lat1))\n",
        "  lon1 = radians(float(lon1))\n",
        "  lat2 = radians(float(lat2))\n",
        "  lon2 = radians(float(lon2))\n",
        "  dlon = lon2 - lon1\n",
        "  dlat = lat2 - lat1\n",
        "  a = sin(dlat / 2)**2 + cos(lat1) * cos(lat2) * sin(dlon / 2)**2\n",
        "  c = 2 * atan2(sqrt(a), sqrt(1 - a))\n",
        "  distance = R * c *1000\n",
        "  return distance   \n",
        "\n",
        "def return_tabular_output(df):\n",
        "  log_col = ['Provider','Input_Lat','Input_Long','POI_Input']\n",
        "  log_col.extend(Fields)\n",
        "  df = df[log_col]\n",
        "  df['lat_position']= df['geometry'].apply(lambda x: x['location']['lat'])\n",
        "  df['lon_position']= df['geometry'].apply(lambda x: x['location']['lat'])\n",
        "  df['type']= df['types'].apply(lambda x: x[0])\n",
        "  df[\"Distance\"] = df[[\"Input_Lat\", \"Input_Long\", \"lat_position\",'lon_position']].apply(lambda x : get_distance(*x), axis=1)\n",
        "  return df"
      ],
      "execution_count": null,
      "outputs": []
    },
    {
      "cell_type": "markdown",
      "metadata": {
        "id": "qNyg9HM3-Hvq"
      },
      "source": [
        "<h1> Sample Test Ends Here. Bulk API call Programming Begin here<h4>"
      ]
    },
    {
      "cell_type": "markdown",
      "metadata": {
        "id": "MPHOVNPd-VcS"
      },
      "source": [
        "An input file with the following format need to be created"
      ]
    },
    {
      "cell_type": "markdown",
      "metadata": {
        "id": "0k44zn4J-2Bl"
      },
      "source": [
        "![image.png](data:image/png;base64,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)"
      ]
    },
    {
      "cell_type": "markdown",
      "metadata": {
        "id": "9KV4fMaz_dJx"
      },
      "source": [
        "We Create a function to query the API and return us with a dataframe with the help of return_df_from_JSON function"
      ]
    },
    {
      "cell_type": "code",
      "metadata": {
        "id": "QpPbuyFi-1pQ"
      },
      "source": [
        "def return_data_from_input(row):\n",
        "  input_lat = row[0]\n",
        "  input_long = row[1]\n",
        "  input_distance = row[3]\n",
        "  query = row[2]\n",
        "  Queryfields = \"fields=\" + ','.join(Fields)\n",
        "  google_api_request = 'https://maps.googleapis.com/maps/api/place/textsearch/json?query=' + query + '&location=' + input_lat + ',' + input_long +'&'+ Queryfields+ '&radius=' +Search_Radius+ '&key=' + google_api_key\n",
        "  print(google_api_request,input_lat,input_long,query)\n",
        "  google_result = requests.get(google_api_request)\n",
        "  df = return_df_from_JSON(google_result,input_lat,input_long,query)\n",
        "  try:\n",
        "    if json.loads(google_result.text)['next_page_token']:\n",
        "      time.sleep(2)\n",
        "      google_api_request_page2 = google_api_request + '&pagetoken=' + json.loads(google_result.text)['next_page_token']\n",
        "      google_page2_result = requests.get(google_api_request_page2)\n",
        "      df2 = return_df_from_JSON(google_page2_result,input_lat,input_long,query)\n",
        "      df = df.append(df2)\n",
        "      try:\n",
        "        if json.loads(google_page2_result.text)['next_page_token']:\n",
        "          time.sleep(2)\n",
        "          google_api_request_page3 = google_api_request + '&pagetoken=' + json.loads(google_page2_result.text)['next_page_token']\n",
        "          google_page3_result = requests.get(google_api_request_page3)\n",
        "          df3 = return_df_from_JSON(google_page3_result,input_lat,input_long,query)\n",
        "          df = df.append(df3)\n",
        "          try:\n",
        "            if str(json.loads(google_page3_result.text)['next_page_token']):\n",
        "              time.sleep(2)\n",
        "              google_api_request_page4 = google_api_request + '&pagetoken=' + json.loads(google_page3_result.text)['next_page_token']\n",
        "              google_page4_result = requests.get(google_api_request_page4)\n",
        "              df4 = return_df_from_JSON(google_page4_result,input_lat,input_long,query)\n",
        "              df = df.append(df4)\n",
        "          except:pass\n",
        "      except:pass\n",
        "  except:pass\n",
        "\n",
        "  return df"
      ],
      "execution_count": null,
      "outputs": []
    },
    {
      "cell_type": "code",
      "metadata": {
        "id": "SBn1W7bBgNH4"
      },
      "source": [
        "DF =   pd.DataFrame()\n",
        "with open('INPUT_CATEGORICAL_SAMPLE.csv', encoding=\"utf8\", errors='ignore') as csvfile:\n",
        "  readCSV = csv.reader(csvfile, delimiter=',')\n",
        "  list_of_rows = list(readCSV)\n",
        "  for rows in range(1,len(list_of_rows),1):\n",
        "    print('Call number: ' + str(rows))\n",
        "    print(list_of_rows[rows])\n",
        "    df = return_tabular_output(return_data_from_input(list_of_rows[rows]))\n",
        "    DF = DF.append(df2)\n",
        "    DF.to_csv('OUTPUT_Google_CATEGORICAL.csv', mode='a', header=True)\n",
        "  print(\"ALL JOBS COMPLETE\")"
      ],
      "execution_count": null,
      "outputs": []
    }
  ]
}
